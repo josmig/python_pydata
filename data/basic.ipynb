{
 "cells": [
  {
   "cell_type": "code",
   "execution_count": 14,
   "id": "2fc5411c",
   "metadata": {},
   "outputs": [],
   "source": [
    "import pandas as pd"
   ]
  },
  {
   "cell_type": "markdown",
   "id": "c7c50047",
   "metadata": {},
   "source": [
    "### Un Dataframes es un conjunto de datos"
   ]
  },
  {
   "cell_type": "code",
   "execution_count": 30,
   "id": "91522150",
   "metadata": {},
   "outputs": [
    {
     "data": {
      "text/html": [
       "<div>\n",
       "<style scoped>\n",
       "    .dataframe tbody tr th:only-of-type {\n",
       "        vertical-align: middle;\n",
       "    }\n",
       "\n",
       "    .dataframe tbody tr th {\n",
       "        vertical-align: top;\n",
       "    }\n",
       "\n",
       "    .dataframe thead th {\n",
       "        text-align: right;\n",
       "    }\n",
       "</style>\n",
       "<table border=\"1\" class=\"dataframe\">\n",
       "  <thead>\n",
       "    <tr style=\"text-align: right;\">\n",
       "      <th></th>\n",
       "      <th>N</th>\n",
       "      <th>Nombre</th>\n",
       "      <th>Edad</th>\n",
       "      <th>Pais</th>\n",
       "      <th>Carro</th>\n",
       "    </tr>\n",
       "  </thead>\n",
       "  <tbody>\n",
       "    <tr>\n",
       "      <th>0</th>\n",
       "      <td>1</td>\n",
       "      <td>Miguel</td>\n",
       "      <td>27</td>\n",
       "      <td>Peru</td>\n",
       "      <td>Si</td>\n",
       "    </tr>\n",
       "    <tr>\n",
       "      <th>1</th>\n",
       "      <td>2</td>\n",
       "      <td>Gabriel</td>\n",
       "      <td>25</td>\n",
       "      <td>Peru</td>\n",
       "      <td>No</td>\n",
       "    </tr>\n",
       "    <tr>\n",
       "      <th>2</th>\n",
       "      <td>3</td>\n",
       "      <td>Cris</td>\n",
       "      <td>20</td>\n",
       "      <td>Peru</td>\n",
       "      <td>No</td>\n",
       "    </tr>\n",
       "    <tr>\n",
       "      <th>3</th>\n",
       "      <td>4</td>\n",
       "      <td>Carlos</td>\n",
       "      <td>34</td>\n",
       "      <td>Peru</td>\n",
       "      <td>Si</td>\n",
       "    </tr>\n",
       "  </tbody>\n",
       "</table>\n",
       "</div>"
      ],
      "text/plain": [
       "   N   Nombre  Edad Pais  Carro\n",
       "0  1   Miguel    27  Peru    Si\n",
       "1  2  Gabriel    25  Peru    No\n",
       "2  3     Cris    20  Peru    No\n",
       "3  4   Carlos    34  Peru    Si"
      ]
     },
     "execution_count": 30,
     "metadata": {},
     "output_type": "execute_result"
    }
   ],
   "source": [
    "tabla = pd.read_csv('/Users/miguelpantigoso/Downloads/datos.csv', sep=';', engine='python')\n",
    "tabla"
   ]
  },
  {
   "cell_type": "markdown",
   "id": "1716af4a",
   "metadata": {},
   "source": [
    "### Una serie es una lista de datos unidimensional cada columna y fila vendria a ser serie\n"
   ]
  },
  {
   "cell_type": "code",
   "execution_count": 31,
   "id": "8af97112",
   "metadata": {},
   "outputs": [
    {
     "name": "stdout",
     "output_type": "stream",
     "text": [
      "['N', 'Nombre', 'Edad', 'Pais ', 'Carro']\n"
     ]
    }
   ],
   "source": [
    "print(tabla.columns.tolist())"
   ]
  },
  {
   "cell_type": "markdown",
   "id": "32a2c059",
   "metadata": {},
   "source": [
    "Accediendo a una serie(columna en este caso NOMBRE)"
   ]
  },
  {
   "cell_type": "code",
   "execution_count": 20,
   "id": "f823a205",
   "metadata": {},
   "outputs": [
    {
     "data": {
      "text/plain": [
       "0     Miguel\n",
       "1    Gabriel\n",
       "2       Cris\n",
       "3     Carlos\n",
       "Name: Nombre, dtype: object"
      ]
     },
     "execution_count": 20,
     "metadata": {},
     "output_type": "execute_result"
    }
   ],
   "source": [
    "tabla['Nombre']"
   ]
  },
  {
   "cell_type": "code",
   "execution_count": 21,
   "id": "b365b51f",
   "metadata": {},
   "outputs": [
    {
     "data": {
      "text/plain": [
       "0    27\n",
       "1    25\n",
       "2    20\n",
       "3    34\n",
       "Name: Edad, dtype: int64"
      ]
     },
     "execution_count": 21,
     "metadata": {},
     "output_type": "execute_result"
    }
   ],
   "source": [
    "tabla.Edad"
   ]
  },
  {
   "cell_type": "code",
   "execution_count": 28,
   "id": "7bbc571a",
   "metadata": {},
   "outputs": [
    {
     "data": {
      "text/plain": [
       "0    Si\n",
       "1    No\n",
       "2    No\n",
       "3    Si\n",
       "Name: Carro, dtype: object"
      ]
     },
     "execution_count": 28,
     "metadata": {},
     "output_type": "execute_result"
    }
   ],
   "source": [
    "tabla.Carro"
   ]
  },
  {
   "cell_type": "code",
   "execution_count": 29,
   "id": "3f6ce20d",
   "metadata": {},
   "outputs": [
    {
     "data": {
      "text/html": [
       "<div>\n",
       "<style scoped>\n",
       "    .dataframe tbody tr th:only-of-type {\n",
       "        vertical-align: middle;\n",
       "    }\n",
       "\n",
       "    .dataframe tbody tr th {\n",
       "        vertical-align: top;\n",
       "    }\n",
       "\n",
       "    .dataframe thead th {\n",
       "        text-align: right;\n",
       "    }\n",
       "</style>\n",
       "<table border=\"1\" class=\"dataframe\">\n",
       "  <thead>\n",
       "    <tr style=\"text-align: right;\">\n",
       "      <th></th>\n",
       "      <th>Nombre</th>\n",
       "      <th>Carro</th>\n",
       "    </tr>\n",
       "  </thead>\n",
       "  <tbody>\n",
       "    <tr>\n",
       "      <th>0</th>\n",
       "      <td>Miguel</td>\n",
       "      <td>Si</td>\n",
       "    </tr>\n",
       "    <tr>\n",
       "      <th>1</th>\n",
       "      <td>Gabriel</td>\n",
       "      <td>No</td>\n",
       "    </tr>\n",
       "    <tr>\n",
       "      <th>2</th>\n",
       "      <td>Cris</td>\n",
       "      <td>No</td>\n",
       "    </tr>\n",
       "    <tr>\n",
       "      <th>3</th>\n",
       "      <td>Carlos</td>\n",
       "      <td>Si</td>\n",
       "    </tr>\n",
       "  </tbody>\n",
       "</table>\n",
       "</div>"
      ],
      "text/plain": [
       "    Nombre Carro\n",
       "0   Miguel    Si\n",
       "1  Gabriel    No\n",
       "2     Cris    No\n",
       "3   Carlos    Si"
      ]
     },
     "execution_count": 29,
     "metadata": {},
     "output_type": "execute_result"
    }
   ],
   "source": [
    "tabla[['Nombre','Carro']]"
   ]
  },
  {
   "cell_type": "code",
   "execution_count": 33,
   "id": "dadb8a00",
   "metadata": {},
   "outputs": [
    {
     "data": {
      "text/plain": [
       "pandas.core.series.Series"
      ]
     },
     "execution_count": 33,
     "metadata": {},
     "output_type": "execute_result"
    }
   ],
   "source": [
    "type(tabla.Nombre)"
   ]
  },
  {
   "cell_type": "code",
   "execution_count": 34,
   "id": "ea072240",
   "metadata": {},
   "outputs": [
    {
     "data": {
      "text/plain": [
       "pandas.core.frame.DataFrame"
      ]
     },
     "execution_count": 34,
     "metadata": {},
     "output_type": "execute_result"
    }
   ],
   "source": [
    "type(tabla[['Nombre','Carro']])"
   ]
  }
 ],
 "metadata": {
  "kernelspec": {
   "display_name": "Python 3",
   "language": "python",
   "name": "python3"
  },
  "language_info": {
   "codemirror_mode": {
    "name": "ipython",
    "version": 3
   },
   "file_extension": ".py",
   "mimetype": "text/x-python",
   "name": "python",
   "nbconvert_exporter": "python",
   "pygments_lexer": "ipython3",
   "version": "3.13.2"
  }
 },
 "nbformat": 4,
 "nbformat_minor": 5
}
